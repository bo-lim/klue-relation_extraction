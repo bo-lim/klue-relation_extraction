{
 "cells": [
  {
   "cell_type": "markdown",
   "id": "831c5b7d-1aed-4b99-bdb0-05912e6620a7",
   "metadata": {},
   "source": [
    "# 0. 라이브러리 설치 및 불러오기"
   ]
  },
  {
   "cell_type": "code",
   "execution_count": 1,
   "id": "b6d05326-609d-4396-8ed7-5565ea2f1d52",
   "metadata": {},
   "outputs": [
    {
     "name": "stdout",
     "output_type": "stream",
     "text": [
      "Collecting seaborn\n",
      "  Downloading seaborn-0.11.2-py3-none-any.whl (292 kB)\n",
      "\u001b[K     |████████████████████████████████| 292 kB 19.5 MB/s eta 0:00:01\n",
      "\u001b[?25hRequirement already satisfied: numpy>=1.15 in /opt/conda/lib/python3.8/site-packages (from seaborn) (1.19.2)\n",
      "Requirement already satisfied: scipy>=1.0 in /opt/conda/lib/python3.8/site-packages (from seaborn) (1.7.1)\n",
      "Collecting matplotlib>=2.2\n",
      "  Downloading matplotlib-3.5.1-cp38-cp38-manylinux_2_5_x86_64.manylinux1_x86_64.whl (11.3 MB)\n",
      "\u001b[K     |████████████████████████████████| 11.3 MB 52.1 MB/s eta 0:00:01\n",
      "\u001b[?25hRequirement already satisfied: pandas>=0.23 in /opt/conda/lib/python3.8/site-packages (from seaborn) (1.1.5)\n",
      "Collecting cycler>=0.10\n",
      "  Downloading cycler-0.11.0-py3-none-any.whl (6.4 kB)\n",
      "Collecting fonttools>=4.22.0\n",
      "  Downloading fonttools-4.31.1-py3-none-any.whl (899 kB)\n",
      "\u001b[K     |████████████████████████████████| 899 kB 60.8 MB/s eta 0:00:01\n",
      "\u001b[?25hRequirement already satisfied: python-dateutil>=2.7 in /opt/conda/lib/python3.8/site-packages (from matplotlib>=2.2->seaborn) (2.8.2)\n",
      "Requirement already satisfied: pillow>=6.2.0 in /opt/conda/lib/python3.8/site-packages (from matplotlib>=2.2->seaborn) (8.1.0)\n",
      "Collecting kiwisolver>=1.0.1\n",
      "  Downloading kiwisolver-1.4.0-cp38-cp38-manylinux_2_5_x86_64.manylinux1_x86_64.whl (1.2 MB)\n",
      "\u001b[K     |████████████████████████████████| 1.2 MB 80.3 MB/s eta 0:00:01\n",
      "\u001b[?25hRequirement already satisfied: pyparsing>=2.2.1 in /opt/conda/lib/python3.8/site-packages (from matplotlib>=2.2->seaborn) (2.4.7)\n",
      "Requirement already satisfied: packaging>=20.0 in /opt/conda/lib/python3.8/site-packages (from matplotlib>=2.2->seaborn) (21.0)\n",
      "Requirement already satisfied: pytz>=2017.2 in /opt/conda/lib/python3.8/site-packages (from pandas>=0.23->seaborn) (2020.5)\n",
      "Requirement already satisfied: six>=1.5 in /opt/conda/lib/python3.8/site-packages (from python-dateutil>=2.7->matplotlib>=2.2->seaborn) (1.15.0)\n",
      "Installing collected packages: cycler, fonttools, kiwisolver, matplotlib, seaborn\n",
      "Successfully installed cycler-0.11.0 fonttools-4.31.1 kiwisolver-1.4.0 matplotlib-3.5.1 seaborn-0.11.2\n"
     ]
    }
   ],
   "source": [
    "!pip install seaborn"
   ]
  },
  {
   "cell_type": "code",
   "execution_count": 85,
   "id": "3fb35cea-e46a-45cc-b908-f1aee0483f3c",
   "metadata": {},
   "outputs": [],
   "source": [
    "import pandas as pd\n",
    "import numpy as np\n",
    "\n",
    "import pickle\n",
    "\n",
    "import seaborn as sns\n",
    "from matplotlib import pyplot as plt\n",
    "%matplotlib inline"
   ]
  },
  {
   "cell_type": "markdown",
   "id": "55103236-f3e8-42f3-a490-0646135615ca",
   "metadata": {},
   "source": [
    "# 1. 데이터 불러오기 및 간단한 탐색"
   ]
  },
  {
   "cell_type": "markdown",
   "id": "af60ff9e-74ee-4da8-b24b-91dcf4c15719",
   "metadata": {},
   "source": [
    "## 1.1 데이터 불러오기"
   ]
  },
  {
   "cell_type": "code",
   "execution_count": 3,
   "id": "3dbf83e4-67b4-44f4-bc0b-14451ac4fdd8",
   "metadata": {},
   "outputs": [],
   "source": [
    "train_dir = '../dataset/train/train.csv'\n",
    "test_dir = '../dataset/test/test_data.csv'"
   ]
  },
  {
   "cell_type": "code",
   "execution_count": 48,
   "id": "8caa4908-0cc8-41fb-ad0c-8faa63cab4f3",
   "metadata": {},
   "outputs": [],
   "source": [
    "raw_train = pd.read_csv(train_dir)\n",
    "raw_test = pd.read_csv(test_dir)"
   ]
  },
  {
   "cell_type": "markdown",
   "id": "a5e217d4-778b-4dfd-954b-f943c0e201ea",
   "metadata": {},
   "source": [
    "## 1.2 데이터 확인 및 변형"
   ]
  },
  {
   "cell_type": "code",
   "execution_count": 42,
   "id": "d20cd9a4-47b8-4d5c-af8f-2b39c1ce9eae",
   "metadata": {},
   "outputs": [
    {
     "data": {
      "text/html": [
       "<div>\n",
       "<style scoped>\n",
       "    .dataframe tbody tr th:only-of-type {\n",
       "        vertical-align: middle;\n",
       "    }\n",
       "\n",
       "    .dataframe tbody tr th {\n",
       "        vertical-align: top;\n",
       "    }\n",
       "\n",
       "    .dataframe thead th {\n",
       "        text-align: right;\n",
       "    }\n",
       "</style>\n",
       "<table border=\"1\" class=\"dataframe\">\n",
       "  <thead>\n",
       "    <tr style=\"text-align: right;\">\n",
       "      <th></th>\n",
       "      <th>id</th>\n",
       "      <th>sentence</th>\n",
       "      <th>subject_entity</th>\n",
       "      <th>object_entity</th>\n",
       "      <th>label</th>\n",
       "      <th>source</th>\n",
       "    </tr>\n",
       "  </thead>\n",
       "  <tbody>\n",
       "    <tr>\n",
       "      <th>0</th>\n",
       "      <td>0</td>\n",
       "      <td>〈Something〉는 조지 해리슨이 쓰고 비틀즈가 1969년 앨범 《Abbey R...</td>\n",
       "      <td>{'word': '비틀즈', 'start_idx': 24, 'end_idx': 26...</td>\n",
       "      <td>{'word': '조지 해리슨', 'start_idx': 13, 'end_idx':...</td>\n",
       "      <td>no_relation</td>\n",
       "      <td>wikipedia</td>\n",
       "    </tr>\n",
       "    <tr>\n",
       "      <th>1</th>\n",
       "      <td>1</td>\n",
       "      <td>호남이 기반인 바른미래당·대안신당·민주평화당이 우여곡절 끝에 합당해 민생당(가칭)으...</td>\n",
       "      <td>{'word': '민주평화당', 'start_idx': 19, 'end_idx': ...</td>\n",
       "      <td>{'word': '대안신당', 'start_idx': 14, 'end_idx': 1...</td>\n",
       "      <td>no_relation</td>\n",
       "      <td>wikitree</td>\n",
       "    </tr>\n",
       "    <tr>\n",
       "      <th>2</th>\n",
       "      <td>2</td>\n",
       "      <td>K리그2에서 성적 1위를 달리고 있는 광주FC는 지난 26일 한국프로축구연맹으로부터...</td>\n",
       "      <td>{'word': '광주FC', 'start_idx': 21, 'end_idx': 2...</td>\n",
       "      <td>{'word': '한국프로축구연맹', 'start_idx': 34, 'end_idx...</td>\n",
       "      <td>org:member_of</td>\n",
       "      <td>wikitree</td>\n",
       "    </tr>\n",
       "    <tr>\n",
       "      <th>3</th>\n",
       "      <td>3</td>\n",
       "      <td>균일가 생활용품점 (주)아성다이소(대표 박정부)는 코로나19 바이러스로 어려움을 겪...</td>\n",
       "      <td>{'word': '아성다이소', 'start_idx': 13, 'end_idx': ...</td>\n",
       "      <td>{'word': '박정부', 'start_idx': 22, 'end_idx': 24...</td>\n",
       "      <td>org:top_members/employees</td>\n",
       "      <td>wikitree</td>\n",
       "    </tr>\n",
       "    <tr>\n",
       "      <th>4</th>\n",
       "      <td>4</td>\n",
       "      <td>1967년 프로 야구 드래프트 1순위로 요미우리 자이언츠에게 입단하면서 등번호는 8...</td>\n",
       "      <td>{'word': '요미우리 자이언츠', 'start_idx': 22, 'end_id...</td>\n",
       "      <td>{'word': '1967', 'start_idx': 0, 'end_idx': 3,...</td>\n",
       "      <td>no_relation</td>\n",
       "      <td>wikipedia</td>\n",
       "    </tr>\n",
       "  </tbody>\n",
       "</table>\n",
       "</div>"
      ],
      "text/plain": [
       "   id                                           sentence  \\\n",
       "0   0  〈Something〉는 조지 해리슨이 쓰고 비틀즈가 1969년 앨범 《Abbey R...   \n",
       "1   1  호남이 기반인 바른미래당·대안신당·민주평화당이 우여곡절 끝에 합당해 민생당(가칭)으...   \n",
       "2   2  K리그2에서 성적 1위를 달리고 있는 광주FC는 지난 26일 한국프로축구연맹으로부터...   \n",
       "3   3  균일가 생활용품점 (주)아성다이소(대표 박정부)는 코로나19 바이러스로 어려움을 겪...   \n",
       "4   4  1967년 프로 야구 드래프트 1순위로 요미우리 자이언츠에게 입단하면서 등번호는 8...   \n",
       "\n",
       "                                      subject_entity  \\\n",
       "0  {'word': '비틀즈', 'start_idx': 24, 'end_idx': 26...   \n",
       "1  {'word': '민주평화당', 'start_idx': 19, 'end_idx': ...   \n",
       "2  {'word': '광주FC', 'start_idx': 21, 'end_idx': 2...   \n",
       "3  {'word': '아성다이소', 'start_idx': 13, 'end_idx': ...   \n",
       "4  {'word': '요미우리 자이언츠', 'start_idx': 22, 'end_id...   \n",
       "\n",
       "                                       object_entity  \\\n",
       "0  {'word': '조지 해리슨', 'start_idx': 13, 'end_idx':...   \n",
       "1  {'word': '대안신당', 'start_idx': 14, 'end_idx': 1...   \n",
       "2  {'word': '한국프로축구연맹', 'start_idx': 34, 'end_idx...   \n",
       "3  {'word': '박정부', 'start_idx': 22, 'end_idx': 24...   \n",
       "4  {'word': '1967', 'start_idx': 0, 'end_idx': 3,...   \n",
       "\n",
       "                       label     source  \n",
       "0                no_relation  wikipedia  \n",
       "1                no_relation   wikitree  \n",
       "2              org:member_of   wikitree  \n",
       "3  org:top_members/employees   wikitree  \n",
       "4                no_relation  wikipedia  "
      ]
     },
     "execution_count": 42,
     "metadata": {},
     "output_type": "execute_result"
    }
   ],
   "source": [
    "raw_train.head()"
   ]
  },
  {
   "cell_type": "code",
   "execution_count": 43,
   "id": "c4b1e237-5ebf-4945-90ab-153cba73ef21",
   "metadata": {},
   "outputs": [
    {
     "data": {
      "text/html": [
       "<div>\n",
       "<style scoped>\n",
       "    .dataframe tbody tr th:only-of-type {\n",
       "        vertical-align: middle;\n",
       "    }\n",
       "\n",
       "    .dataframe tbody tr th {\n",
       "        vertical-align: top;\n",
       "    }\n",
       "\n",
       "    .dataframe thead th {\n",
       "        text-align: right;\n",
       "    }\n",
       "</style>\n",
       "<table border=\"1\" class=\"dataframe\">\n",
       "  <thead>\n",
       "    <tr style=\"text-align: right;\">\n",
       "      <th></th>\n",
       "      <th>id</th>\n",
       "      <th>sentence</th>\n",
       "      <th>subject_entity</th>\n",
       "      <th>object_entity</th>\n",
       "      <th>label</th>\n",
       "      <th>source</th>\n",
       "    </tr>\n",
       "  </thead>\n",
       "  <tbody>\n",
       "    <tr>\n",
       "      <th>0</th>\n",
       "      <td>0</td>\n",
       "      <td>지난 15일 MBC '탐사기획 스트레이트'가 이 사실을 보도했다.</td>\n",
       "      <td>{'word': 'MBC', 'start_idx': 7, 'end_idx': 9, ...</td>\n",
       "      <td>{'word': '탐사기획 스트레이트', 'start_idx': 12, 'end_i...</td>\n",
       "      <td>100</td>\n",
       "      <td>wikitree</td>\n",
       "    </tr>\n",
       "    <tr>\n",
       "      <th>1</th>\n",
       "      <td>1</td>\n",
       "      <td>사랑스러운 ‘프린세스 프링’의 이름은 봄의 공주님: Princess(s)Pring이...</td>\n",
       "      <td>{'word': '프린세스 프링', 'start_idx': 7, 'end_idx':...</td>\n",
       "      <td>{'word': '공주', 'start_idx': 84, 'end_idx': 85,...</td>\n",
       "      <td>100</td>\n",
       "      <td>wikipedia</td>\n",
       "    </tr>\n",
       "    <tr>\n",
       "      <th>2</th>\n",
       "      <td>2</td>\n",
       "      <td>한편, 본인(이근안)을 모델로 한 MBC 특집드라마 가 1995년 6.25 특집극으...</td>\n",
       "      <td>{'word': '경찰', 'start_idx': 121, 'end_idx': 12...</td>\n",
       "      <td>{'word': '1995년', 'start_idx': 31, 'end_idx': ...</td>\n",
       "      <td>100</td>\n",
       "      <td>wikipedia</td>\n",
       "    </tr>\n",
       "    <tr>\n",
       "      <th>3</th>\n",
       "      <td>3</td>\n",
       "      <td>정창손은 김질과 같이 대궐로 달려가 고변하며 '신은 실로 모르고 김질만 혼자 참여하...</td>\n",
       "      <td>{'word': '세조', 'start_idx': 78, 'end_idx': 79,...</td>\n",
       "      <td>{'word': '정창손', 'start_idx': 0, 'end_idx': 2, ...</td>\n",
       "      <td>100</td>\n",
       "      <td>wikipedia</td>\n",
       "    </tr>\n",
       "    <tr>\n",
       "      <th>4</th>\n",
       "      <td>4</td>\n",
       "      <td>당시 민주당 이진련 시의원은 권영진 시장에게 \"긴급 생계자금을 왜 현금으로 지원하지...</td>\n",
       "      <td>{'word': '민주당', 'start_idx': 3, 'end_idx': 5, ...</td>\n",
       "      <td>{'word': '권영진', 'start_idx': 16, 'end_idx': 18...</td>\n",
       "      <td>100</td>\n",
       "      <td>wikitree</td>\n",
       "    </tr>\n",
       "  </tbody>\n",
       "</table>\n",
       "</div>"
      ],
      "text/plain": [
       "   id                                           sentence  \\\n",
       "0   0               지난 15일 MBC '탐사기획 스트레이트'가 이 사실을 보도했다.   \n",
       "1   1  사랑스러운 ‘프린세스 프링’의 이름은 봄의 공주님: Princess(s)Pring이...   \n",
       "2   2  한편, 본인(이근안)을 모델로 한 MBC 특집드라마 가 1995년 6.25 특집극으...   \n",
       "3   3  정창손은 김질과 같이 대궐로 달려가 고변하며 '신은 실로 모르고 김질만 혼자 참여하...   \n",
       "4   4  당시 민주당 이진련 시의원은 권영진 시장에게 \"긴급 생계자금을 왜 현금으로 지원하지...   \n",
       "\n",
       "                                      subject_entity  \\\n",
       "0  {'word': 'MBC', 'start_idx': 7, 'end_idx': 9, ...   \n",
       "1  {'word': '프린세스 프링', 'start_idx': 7, 'end_idx':...   \n",
       "2  {'word': '경찰', 'start_idx': 121, 'end_idx': 12...   \n",
       "3  {'word': '세조', 'start_idx': 78, 'end_idx': 79,...   \n",
       "4  {'word': '민주당', 'start_idx': 3, 'end_idx': 5, ...   \n",
       "\n",
       "                                       object_entity  label     source  \n",
       "0  {'word': '탐사기획 스트레이트', 'start_idx': 12, 'end_i...    100   wikitree  \n",
       "1  {'word': '공주', 'start_idx': 84, 'end_idx': 85,...    100  wikipedia  \n",
       "2  {'word': '1995년', 'start_idx': 31, 'end_idx': ...    100  wikipedia  \n",
       "3  {'word': '정창손', 'start_idx': 0, 'end_idx': 2, ...    100  wikipedia  \n",
       "4  {'word': '권영진', 'start_idx': 16, 'end_idx': 18...    100   wikitree  "
      ]
     },
     "execution_count": 43,
     "metadata": {},
     "output_type": "execute_result"
    }
   ],
   "source": [
    "raw_test.head()"
   ]
  },
  {
   "cell_type": "code",
   "execution_count": 52,
   "id": "28186f7e-b53e-47b5-9632-ca186152cef2",
   "metadata": {},
   "outputs": [],
   "source": [
    "train = pd.read_csv(train_dir)\n",
    "train['subject_entity'] = [eval(i)['word'] for i in raw_train['subject_entity']]\n",
    "train['object_entity'] = [eval(i)['word'] for i in raw_train['object_entity']]\n",
    "\n",
    "test = pd.read_csv(test_dir)\n",
    "test['subject_entity'] = [eval(i)['word'] for i in raw_test['subject_entity']]\n",
    "test['object_entity'] = [eval(i)['word'] for i in raw_test['object_entity']]"
   ]
  },
  {
   "cell_type": "code",
   "execution_count": 45,
   "id": "ee120d62-d0f9-48b0-a6dd-c08ba88692b6",
   "metadata": {},
   "outputs": [
    {
     "data": {
      "text/html": [
       "<div>\n",
       "<style scoped>\n",
       "    .dataframe tbody tr th:only-of-type {\n",
       "        vertical-align: middle;\n",
       "    }\n",
       "\n",
       "    .dataframe tbody tr th {\n",
       "        vertical-align: top;\n",
       "    }\n",
       "\n",
       "    .dataframe thead th {\n",
       "        text-align: right;\n",
       "    }\n",
       "</style>\n",
       "<table border=\"1\" class=\"dataframe\">\n",
       "  <thead>\n",
       "    <tr style=\"text-align: right;\">\n",
       "      <th></th>\n",
       "      <th>id</th>\n",
       "      <th>sentence</th>\n",
       "      <th>subject_entity</th>\n",
       "      <th>object_entity</th>\n",
       "      <th>label</th>\n",
       "      <th>source</th>\n",
       "    </tr>\n",
       "  </thead>\n",
       "  <tbody>\n",
       "    <tr>\n",
       "      <th>0</th>\n",
       "      <td>0</td>\n",
       "      <td>〈Something〉는 조지 해리슨이 쓰고 비틀즈가 1969년 앨범 《Abbey R...</td>\n",
       "      <td>비틀즈</td>\n",
       "      <td>조지 해리슨</td>\n",
       "      <td>no_relation</td>\n",
       "      <td>wikipedia</td>\n",
       "    </tr>\n",
       "    <tr>\n",
       "      <th>1</th>\n",
       "      <td>1</td>\n",
       "      <td>호남이 기반인 바른미래당·대안신당·민주평화당이 우여곡절 끝에 합당해 민생당(가칭)으...</td>\n",
       "      <td>민주평화당</td>\n",
       "      <td>대안신당</td>\n",
       "      <td>no_relation</td>\n",
       "      <td>wikitree</td>\n",
       "    </tr>\n",
       "    <tr>\n",
       "      <th>2</th>\n",
       "      <td>2</td>\n",
       "      <td>K리그2에서 성적 1위를 달리고 있는 광주FC는 지난 26일 한국프로축구연맹으로부터...</td>\n",
       "      <td>광주FC</td>\n",
       "      <td>한국프로축구연맹</td>\n",
       "      <td>org:member_of</td>\n",
       "      <td>wikitree</td>\n",
       "    </tr>\n",
       "    <tr>\n",
       "      <th>3</th>\n",
       "      <td>3</td>\n",
       "      <td>균일가 생활용품점 (주)아성다이소(대표 박정부)는 코로나19 바이러스로 어려움을 겪...</td>\n",
       "      <td>아성다이소</td>\n",
       "      <td>박정부</td>\n",
       "      <td>org:top_members/employees</td>\n",
       "      <td>wikitree</td>\n",
       "    </tr>\n",
       "    <tr>\n",
       "      <th>4</th>\n",
       "      <td>4</td>\n",
       "      <td>1967년 프로 야구 드래프트 1순위로 요미우리 자이언츠에게 입단하면서 등번호는 8...</td>\n",
       "      <td>요미우리 자이언츠</td>\n",
       "      <td>1967</td>\n",
       "      <td>no_relation</td>\n",
       "      <td>wikipedia</td>\n",
       "    </tr>\n",
       "  </tbody>\n",
       "</table>\n",
       "</div>"
      ],
      "text/plain": [
       "   id                                           sentence subject_entity  \\\n",
       "0   0  〈Something〉는 조지 해리슨이 쓰고 비틀즈가 1969년 앨범 《Abbey R...            비틀즈   \n",
       "1   1  호남이 기반인 바른미래당·대안신당·민주평화당이 우여곡절 끝에 합당해 민생당(가칭)으...          민주평화당   \n",
       "2   2  K리그2에서 성적 1위를 달리고 있는 광주FC는 지난 26일 한국프로축구연맹으로부터...           광주FC   \n",
       "3   3  균일가 생활용품점 (주)아성다이소(대표 박정부)는 코로나19 바이러스로 어려움을 겪...          아성다이소   \n",
       "4   4  1967년 프로 야구 드래프트 1순위로 요미우리 자이언츠에게 입단하면서 등번호는 8...      요미우리 자이언츠   \n",
       "\n",
       "  object_entity                      label     source  \n",
       "0        조지 해리슨                no_relation  wikipedia  \n",
       "1          대안신당                no_relation   wikitree  \n",
       "2      한국프로축구연맹              org:member_of   wikitree  \n",
       "3           박정부  org:top_members/employees   wikitree  \n",
       "4          1967                no_relation  wikipedia  "
      ]
     },
     "execution_count": 45,
     "metadata": {},
     "output_type": "execute_result"
    }
   ],
   "source": [
    "train.head()"
   ]
  },
  {
   "cell_type": "code",
   "execution_count": 46,
   "id": "a79dd09d-abb7-4c49-a0d4-f2e84eb276b5",
   "metadata": {},
   "outputs": [
    {
     "data": {
      "text/html": [
       "<div>\n",
       "<style scoped>\n",
       "    .dataframe tbody tr th:only-of-type {\n",
       "        vertical-align: middle;\n",
       "    }\n",
       "\n",
       "    .dataframe tbody tr th {\n",
       "        vertical-align: top;\n",
       "    }\n",
       "\n",
       "    .dataframe thead th {\n",
       "        text-align: right;\n",
       "    }\n",
       "</style>\n",
       "<table border=\"1\" class=\"dataframe\">\n",
       "  <thead>\n",
       "    <tr style=\"text-align: right;\">\n",
       "      <th></th>\n",
       "      <th>id</th>\n",
       "      <th>sentence</th>\n",
       "      <th>subject_entity</th>\n",
       "      <th>object_entity</th>\n",
       "      <th>label</th>\n",
       "      <th>source</th>\n",
       "    </tr>\n",
       "  </thead>\n",
       "  <tbody>\n",
       "    <tr>\n",
       "      <th>0</th>\n",
       "      <td>0</td>\n",
       "      <td>지난 15일 MBC '탐사기획 스트레이트'가 이 사실을 보도했다.</td>\n",
       "      <td>MBC</td>\n",
       "      <td>탐사기획 스트레이트</td>\n",
       "      <td>100</td>\n",
       "      <td>wikitree</td>\n",
       "    </tr>\n",
       "    <tr>\n",
       "      <th>1</th>\n",
       "      <td>1</td>\n",
       "      <td>사랑스러운 ‘프린세스 프링’의 이름은 봄의 공주님: Princess(s)Pring이...</td>\n",
       "      <td>프린세스 프링</td>\n",
       "      <td>공주</td>\n",
       "      <td>100</td>\n",
       "      <td>wikipedia</td>\n",
       "    </tr>\n",
       "    <tr>\n",
       "      <th>2</th>\n",
       "      <td>2</td>\n",
       "      <td>한편, 본인(이근안)을 모델로 한 MBC 특집드라마 가 1995년 6.25 특집극으...</td>\n",
       "      <td>경찰</td>\n",
       "      <td>1995년</td>\n",
       "      <td>100</td>\n",
       "      <td>wikipedia</td>\n",
       "    </tr>\n",
       "    <tr>\n",
       "      <th>3</th>\n",
       "      <td>3</td>\n",
       "      <td>정창손은 김질과 같이 대궐로 달려가 고변하며 '신은 실로 모르고 김질만 혼자 참여하...</td>\n",
       "      <td>세조</td>\n",
       "      <td>정창손</td>\n",
       "      <td>100</td>\n",
       "      <td>wikipedia</td>\n",
       "    </tr>\n",
       "    <tr>\n",
       "      <th>4</th>\n",
       "      <td>4</td>\n",
       "      <td>당시 민주당 이진련 시의원은 권영진 시장에게 \"긴급 생계자금을 왜 현금으로 지원하지...</td>\n",
       "      <td>민주당</td>\n",
       "      <td>권영진</td>\n",
       "      <td>100</td>\n",
       "      <td>wikitree</td>\n",
       "    </tr>\n",
       "  </tbody>\n",
       "</table>\n",
       "</div>"
      ],
      "text/plain": [
       "   id                                           sentence subject_entity  \\\n",
       "0   0               지난 15일 MBC '탐사기획 스트레이트'가 이 사실을 보도했다.            MBC   \n",
       "1   1  사랑스러운 ‘프린세스 프링’의 이름은 봄의 공주님: Princess(s)Pring이...        프린세스 프링   \n",
       "2   2  한편, 본인(이근안)을 모델로 한 MBC 특집드라마 가 1995년 6.25 특집극으...             경찰   \n",
       "3   3  정창손은 김질과 같이 대궐로 달려가 고변하며 '신은 실로 모르고 김질만 혼자 참여하...             세조   \n",
       "4   4  당시 민주당 이진련 시의원은 권영진 시장에게 \"긴급 생계자금을 왜 현금으로 지원하지...            민주당   \n",
       "\n",
       "  object_entity  label     source  \n",
       "0    탐사기획 스트레이트    100   wikitree  \n",
       "1            공주    100  wikipedia  \n",
       "2         1995년    100  wikipedia  \n",
       "3           정창손    100  wikipedia  \n",
       "4           권영진    100   wikitree  "
      ]
     },
     "execution_count": 46,
     "metadata": {},
     "output_type": "execute_result"
    }
   ],
   "source": [
    "test.head()"
   ]
  },
  {
   "cell_type": "markdown",
   "id": "bc7cf40b-f589-49bb-a868-701b627c0e73",
   "metadata": {},
   "source": [
    "## 1.3 Entity relations 내림차순 정렬 시각화"
   ]
  },
  {
   "cell_type": "code",
   "execution_count": 35,
   "id": "895ad04b-3237-4fe1-b50d-d020a9c42067",
   "metadata": {},
   "outputs": [
    {
     "data": {
      "image/png": "[encoded data removed]",
      "text/plain": [
       "<Figure size 720x576 with 1 Axes>"
      ]
     },
     "metadata": {
      "needs_background": "light"
     },
     "output_type": "display_data"
    }
   ],
   "source": [
    "fig, ax = plt.subplots(1,1, figsize=(10, 8))\n",
    "sns.countplot(y='label', data=train, order = train['label'].value_counts().index)\n",
    "plt.show()"
   ]
  },
  {
   "cell_type": "markdown",
   "id": "0492502b-bd3e-4575-8dd0-08950fba1166",
   "metadata": {},
   "source": [
    "# 2 train/test dataset 비교"
   ]
  },
  {
   "cell_type": "markdown",
   "id": "6a42b21d-cce5-4bcc-9a18-94754a2641e7",
   "metadata": {},
   "source": [
    "## 2.1 source"
   ]
  },
  {
   "cell_type": "code",
   "execution_count": 38,
   "id": "c6f3d456-4212-4cd0-a8db-aaa6e96f2643",
   "metadata": {},
   "outputs": [
    {
     "data": {
      "text/plain": [
       "Text(0.5, 1.0, 'test: source')"
      ]
     },
     "execution_count": 38,
     "metadata": {},
     "output_type": "execute_result"
    },
    {
     "data": {
      "image/png": "[encoded data removed]",
      "text/plain": [
       "<Figure size 1080x360 with 2 Axes>"
      ]
     },
     "metadata": {
      "needs_background": "light"
     },
     "output_type": "display_data"
    }
   ],
   "source": [
    "fig,ax = plt.subplots(ncols=2, figsize=(15,5), sharex=True)\n",
    "sns.countplot(y=train['source'], ax=ax[0]).set_title(\"train: source\")\n",
    "sns.countplot(y=test['source'], ax=ax[1]).set_title(\"test: source\")"
   ]
  },
  {
   "cell_type": "markdown",
   "id": "352ef5d9-a246-48c8-9036-4b6df5d45697",
   "metadata": {},
   "source": [
    "## 2.2 subject/object entity"
   ]
  },
  {
   "cell_type": "code",
   "execution_count": 49,
   "id": "26a6ae09-5f93-4a7e-8a80-d516784e4fdc",
   "metadata": {},
   "outputs": [],
   "source": [
    "subject_entity_type = [eval(e)['type'] for e in raw_train['subject_entity']] # eval로 감싸면 dict형식의 str을 dict로 형변환할 수 있음\n",
    "object_entity_type= [eval(e)['type'] for e in raw_train['object_entity']]\n",
    "t_subject_entity_type = [eval(e)['type'] for e in raw_test['subject_entity']]\n",
    "t_object_entity_type= [eval(e)['type'] for e in raw_test['object_entity']]"
   ]
  },
  {
   "cell_type": "markdown",
   "id": "0c5c3e43-dbcf-43db-ba87-b3b28dad131c",
   "metadata": {},
   "source": [
    "### train data"
   ]
  },
  {
   "cell_type": "markdown",
   "id": "eb2286cc-621a-4f25-9d90-3d0cc59ac6de",
   "metadata": {},
   "source": [
    "train의 object entity 에서 `NOH`의 비율이 현저히 낮아 잘 학습되지 않을 수도 있을 것이라 예상됨"
   ]
  },
  {
   "cell_type": "code",
   "execution_count": 54,
   "id": "0ec88193-5800-4f10-bb32-c66aae89e988",
   "metadata": {},
   "outputs": [
    {
     "data": {
      "text/plain": [
       "Text(0.5, 1.0, 'train : object_entity')"
      ]
     },
     "execution_count": 54,
     "metadata": {},
     "output_type": "execute_result"
    },
    {
     "data": {
      "image/png": "[encoded data removed]",
      "text/plain": [
       "<Figure size 1080x360 with 2 Axes>"
      ]
     },
     "metadata": {
      "needs_background": "light"
     },
     "output_type": "display_data"
    }
   ],
   "source": [
    "fix, ax = plt.subplots(ncols=2, figsize=(15,5), sharex=True)\n",
    "sns.countplot(y=subject_entity_type, ax=ax[0]).set_title(\"train : subject_entity\")\n",
    "sns.countplot(y=object_entity_type, ax=ax[1]).set_title(\"train : object_entity\")"
   ]
  },
  {
   "cell_type": "markdown",
   "id": "b978f534-712c-4fb9-ac2e-2fc54932a90a",
   "metadata": {},
   "source": [
    "### test data"
   ]
  },
  {
   "cell_type": "code",
   "execution_count": 53,
   "id": "6a0c55ab-f623-458e-be04-e64411879bcc",
   "metadata": {},
   "outputs": [
    {
     "data": {
      "text/plain": [
       "Text(0.5, 1.0, 'test : object_entity')"
      ]
     },
     "execution_count": 53,
     "metadata": {},
     "output_type": "execute_result"
    },
    {
     "data": {
      "image/png": "[encoded data removed]",
      "text/plain": [
       "<Figure size 1080x360 with 2 Axes>"
      ]
     },
     "metadata": {
      "needs_background": "light"
     },
     "output_type": "display_data"
    }
   ],
   "source": [
    "fix, ax = plt.subplots(ncols=2, figsize=(15,5), sharex=True)\n",
    "sns.countplot(y=t_subject_entity_type, ax=ax[0]).set_title(\"test : subject_entity\")\n",
    "sns.countplot(y=t_object_entity_type, ax=ax[1]).set_title(\"test : object_entity\")"
   ]
  },
  {
   "cell_type": "code",
   "execution_count": 61,
   "id": "4fc51530-0fb4-482c-bc04-7a1bca0605f5",
   "metadata": {},
   "outputs": [
    {
     "data": {
      "text/plain": [
       "1"
      ]
     },
     "execution_count": 61,
     "metadata": {},
     "output_type": "execute_result"
    }
   ],
   "source": [
    "from collections import Counter\n",
    "Counter(t_subject_entity_type)['LOC'] # 'test : subject_entity'의 LOC는 1개"
   ]
  },
  {
   "cell_type": "markdown",
   "id": "f6e34a27-d4e1-46e7-9103-1539a24b0442",
   "metadata": {},
   "source": [
    "## 2.3 sentence length"
   ]
  },
  {
   "cell_type": "code",
   "execution_count": 62,
   "id": "6b0d4044-6afe-4c19-ad54-d738412eb0ed",
   "metadata": {},
   "outputs": [],
   "source": [
    "train_sentence_length = [len(e) for e in train['sentence']]\n",
    "test_sentence_length = [len(e) for e in test['sentence']]"
   ]
  },
  {
   "cell_type": "code",
   "execution_count": 63,
   "id": "6b9c2a77-057b-4c2b-a7fc-fb0d14d1ac49",
   "metadata": {},
   "outputs": [
    {
     "data": {
      "text/plain": [
       "Text(0.5, 1.0, 'test : sentence_length')"
      ]
     },
     "execution_count": 63,
     "metadata": {},
     "output_type": "execute_result"
    },
    {
     "data": {
      "image/png": "[encoded data removed]",
      "text/plain": [
       "<Figure size 1080x360 with 2 Axes>"
      ]
     },
     "metadata": {
      "needs_background": "light"
     },
     "output_type": "display_data"
    }
   ],
   "source": [
    "fix, ax = plt.subplots(ncols=2, figsize=(15,5))\n",
    "sns.histplot(train_sentence_length, ax=ax[0]).set_title(\"train : sentence_length\")\n",
    "sns.histplot(test_sentence_length, ax=ax[1]).set_title(\"test : sentence_length\")"
   ]
  },
  {
   "cell_type": "code",
   "execution_count": 66,
   "id": "ef13ae49-7d20-4d18-9aba-6998c1581fbe",
   "metadata": {},
   "outputs": [
    {
     "data": {
      "text/plain": [
       "455"
      ]
     },
     "execution_count": 66,
     "metadata": {},
     "output_type": "execute_result"
    }
   ],
   "source": [
    "max(train_sentence_length) # train sentence max length"
   ]
  },
  {
   "cell_type": "code",
   "execution_count": 67,
   "id": "0f2f88bd-aa90-4a52-b833-5b4e2a35de4a",
   "metadata": {},
   "outputs": [
    {
     "data": {
      "text/plain": [
       "432"
      ]
     },
     "execution_count": 67,
     "metadata": {},
     "output_type": "execute_result"
    }
   ],
   "source": [
    "max(test_sentence_length) # test sentence max length"
   ]
  },
  {
   "cell_type": "markdown",
   "id": "54bbf8eb-dcbd-4234-bff8-a7bef3711701",
   "metadata": {},
   "source": [
    "# 3. 데이터 중복 체크"
   ]
  },
  {
   "cell_type": "code",
   "execution_count": 72,
   "id": "f6b819e6-89d8-4136-8cf5-83315ff78113",
   "metadata": {},
   "outputs": [
    {
     "data": {
      "text/plain": [
       "32470"
      ]
     },
     "execution_count": 72,
     "metadata": {},
     "output_type": "execute_result"
    }
   ],
   "source": [
    "len(train)"
   ]
  },
  {
   "cell_type": "markdown",
   "id": "84a8ac2c-abaf-4351-9ce1-07a460c1a0ca",
   "metadata": {},
   "source": [
    "* input이 같은 데이터는 온전히 같은 것과 레이블이 상이한 데이터까지 합쳐서 53개이다. 총 32470개 중 53개이므로 삭제하여도 그리 큰 영향이 없을 것이라 예상된다."
   ]
  },
  {
   "cell_type": "code",
   "execution_count": 69,
   "id": "0a02811e-b918-4a02-b07f-597de1d6d159",
   "metadata": {},
   "outputs": [
    {
     "name": "stdout",
     "output_type": "stream",
     "text": [
      "53\n",
      "46\n"
     ]
    }
   ],
   "source": [
    "duplicated_input = train[train.duplicated(['sentence', 'subject_entity','object_entity']) == True] # input\n",
    "duplicated_all = train[train.duplicated(['sentence', 'subject_entity','object_entity', 'label']) == True] # all\n",
    "print(len(duplicated_input))\n",
    "print(len(duplicated_all))"
   ]
  },
  {
   "cell_type": "code",
   "execution_count": 71,
   "id": "453f9e26-f065-481a-8453-4ff3f6a6c492",
   "metadata": {},
   "outputs": [
    {
     "name": "stdout",
     "output_type": "stream",
     "text": [
      "1273\n",
      "903\n",
      "3667\n"
     ]
    }
   ],
   "source": [
    "dup_sub = train[train.duplicated(['sentence', 'subject_entity']) == True] # sentence, sub\n",
    "dup_ob = train[train.duplicated(['sentence', 'object_entity']) == True] # sentence, ob\n",
    "dup_sentence = train[train.duplicated(['sentence']) == True] # sentence\n",
    "print(len(dup_sub))\n",
    "print(len(dup_ob))\n",
    "print(len(dup_sentence))"
   ]
  },
  {
   "cell_type": "markdown",
   "id": "dc56b7d7-73ce-4e9f-8046-b47d59b026ba",
   "metadata": {},
   "source": [
    "* test 데이터에는 내용이 겹치는 데이터가 없음"
   ]
  },
  {
   "cell_type": "code",
   "execution_count": 86,
   "id": "9ac6e4cc-c250-452f-b66f-c1d4b4e420a9",
   "metadata": {},
   "outputs": [
    {
     "data": {
      "text/plain": [
       "0"
      ]
     },
     "execution_count": 86,
     "metadata": {},
     "output_type": "execute_result"
    }
   ],
   "source": [
    "test_duplicated_input = test[test.duplicated(['sentence', 'subject_entity','object_entity']) == True] # input\n",
    "len(test_duplicated_input)"
   ]
  },
  {
   "cell_type": "markdown",
   "id": "fa726673-a50f-4627-9fd9-fd9f773a78e6",
   "metadata": {},
   "source": [
    "# 4. Data Cleansing"
   ]
  },
  {
   "cell_type": "markdown",
   "id": "398a500c-a597-4d60-ae44-5592e57dff48",
   "metadata": {},
   "source": [
    "## 4.1 train data 정제\n",
    "\n",
    "> 겹치는 데이터 삭제"
   ]
  },
  {
   "cell_type": "code",
   "execution_count": 99,
   "id": "ffea84dc-b1a3-40ea-8ed3-459b88c424f8",
   "metadata": {},
   "outputs": [
    {
     "data": {
      "text/html": [
       "<div>\n",
       "<style scoped>\n",
       "    .dataframe tbody tr th:only-of-type {\n",
       "        vertical-align: middle;\n",
       "    }\n",
       "\n",
       "    .dataframe tbody tr th {\n",
       "        vertical-align: top;\n",
       "    }\n",
       "\n",
       "    .dataframe thead th {\n",
       "        text-align: right;\n",
       "    }\n",
       "</style>\n",
       "<table border=\"1\" class=\"dataframe\">\n",
       "  <thead>\n",
       "    <tr style=\"text-align: right;\">\n",
       "      <th></th>\n",
       "      <th>id</th>\n",
       "      <th>sentence</th>\n",
       "      <th>subject_entity</th>\n",
       "      <th>object_entity</th>\n",
       "      <th>label</th>\n",
       "      <th>source</th>\n",
       "    </tr>\n",
       "  </thead>\n",
       "  <tbody>\n",
       "    <tr>\n",
       "      <th>0</th>\n",
       "      <td>0</td>\n",
       "      <td>〈Something〉는 조지 해리슨이 쓰고 비틀즈가 1969년 앨범 《Abbey R...</td>\n",
       "      <td>{'word': '비틀즈', 'start_idx': 24, 'end_idx': 26...</td>\n",
       "      <td>{'word': '조지 해리슨', 'start_idx': 13, 'end_idx':...</td>\n",
       "      <td>no_relation</td>\n",
       "      <td>wikipedia</td>\n",
       "    </tr>\n",
       "    <tr>\n",
       "      <th>1</th>\n",
       "      <td>1</td>\n",
       "      <td>호남이 기반인 바른미래당·대안신당·민주평화당이 우여곡절 끝에 합당해 민생당(가칭)으...</td>\n",
       "      <td>{'word': '민주평화당', 'start_idx': 19, 'end_idx': ...</td>\n",
       "      <td>{'word': '대안신당', 'start_idx': 14, 'end_idx': 1...</td>\n",
       "      <td>no_relation</td>\n",
       "      <td>wikitree</td>\n",
       "    </tr>\n",
       "    <tr>\n",
       "      <th>2</th>\n",
       "      <td>2</td>\n",
       "      <td>K리그2에서 성적 1위를 달리고 있는 광주FC는 지난 26일 한국프로축구연맹으로부터...</td>\n",
       "      <td>{'word': '광주FC', 'start_idx': 21, 'end_idx': 2...</td>\n",
       "      <td>{'word': '한국프로축구연맹', 'start_idx': 34, 'end_idx...</td>\n",
       "      <td>org:member_of</td>\n",
       "      <td>wikitree</td>\n",
       "    </tr>\n",
       "    <tr>\n",
       "      <th>3</th>\n",
       "      <td>3</td>\n",
       "      <td>균일가 생활용품점 (주)아성다이소(대표 박정부)는 코로나19 바이러스로 어려움을 겪...</td>\n",
       "      <td>{'word': '아성다이소', 'start_idx': 13, 'end_idx': ...</td>\n",
       "      <td>{'word': '박정부', 'start_idx': 22, 'end_idx': 24...</td>\n",
       "      <td>org:top_members/employees</td>\n",
       "      <td>wikitree</td>\n",
       "    </tr>\n",
       "    <tr>\n",
       "      <th>4</th>\n",
       "      <td>4</td>\n",
       "      <td>1967년 프로 야구 드래프트 1순위로 요미우리 자이언츠에게 입단하면서 등번호는 8...</td>\n",
       "      <td>{'word': '요미우리 자이언츠', 'start_idx': 22, 'end_id...</td>\n",
       "      <td>{'word': '1967', 'start_idx': 0, 'end_idx': 3,...</td>\n",
       "      <td>no_relation</td>\n",
       "      <td>wikipedia</td>\n",
       "    </tr>\n",
       "  </tbody>\n",
       "</table>\n",
       "</div>"
      ],
      "text/plain": [
       "   id                                           sentence  \\\n",
       "0   0  〈Something〉는 조지 해리슨이 쓰고 비틀즈가 1969년 앨범 《Abbey R...   \n",
       "1   1  호남이 기반인 바른미래당·대안신당·민주평화당이 우여곡절 끝에 합당해 민생당(가칭)으...   \n",
       "2   2  K리그2에서 성적 1위를 달리고 있는 광주FC는 지난 26일 한국프로축구연맹으로부터...   \n",
       "3   3  균일가 생활용품점 (주)아성다이소(대표 박정부)는 코로나19 바이러스로 어려움을 겪...   \n",
       "4   4  1967년 프로 야구 드래프트 1순위로 요미우리 자이언츠에게 입단하면서 등번호는 8...   \n",
       "\n",
       "                                      subject_entity  \\\n",
       "0  {'word': '비틀즈', 'start_idx': 24, 'end_idx': 26...   \n",
       "1  {'word': '민주평화당', 'start_idx': 19, 'end_idx': ...   \n",
       "2  {'word': '광주FC', 'start_idx': 21, 'end_idx': 2...   \n",
       "3  {'word': '아성다이소', 'start_idx': 13, 'end_idx': ...   \n",
       "4  {'word': '요미우리 자이언츠', 'start_idx': 22, 'end_id...   \n",
       "\n",
       "                                       object_entity  \\\n",
       "0  {'word': '조지 해리슨', 'start_idx': 13, 'end_idx':...   \n",
       "1  {'word': '대안신당', 'start_idx': 14, 'end_idx': 1...   \n",
       "2  {'word': '한국프로축구연맹', 'start_idx': 34, 'end_idx...   \n",
       "3  {'word': '박정부', 'start_idx': 22, 'end_idx': 24...   \n",
       "4  {'word': '1967', 'start_idx': 0, 'end_idx': 3,...   \n",
       "\n",
       "                       label     source  \n",
       "0                no_relation  wikipedia  \n",
       "1                no_relation   wikitree  \n",
       "2              org:member_of   wikitree  \n",
       "3  org:top_members/employees   wikitree  \n",
       "4                no_relation  wikipedia  "
      ]
     },
     "execution_count": 99,
     "metadata": {},
     "output_type": "execute_result"
    }
   ],
   "source": [
    "cleaned_train = raw_train.drop(list(duplicated_input['id']))\n",
    "cleaned_train.head()"
   ]
  },
  {
   "cell_type": "code",
   "execution_count": 101,
   "id": "1456c299-89bb-4f61-8342-9aaf7095a969",
   "metadata": {},
   "outputs": [],
   "source": [
    "cleaned_train.to_csv('../dataset/train/cleaned_train.csv', index=False)"
   ]
  },
  {
   "cell_type": "markdown",
   "id": "207ca4ec-2619-48b2-8e37-027779780ce3",
   "metadata": {},
   "source": [
    "## 4.2 train data 를 train/valid data로 나누기"
   ]
  },
  {
   "cell_type": "code",
   "execution_count": 103,
   "id": "bfd81c05-84fe-4427-a6b4-1d05bdc9a803",
   "metadata": {},
   "outputs": [],
   "source": [
    "from sklearn.model_selection import train_test_split\n",
    "new_train, new_dev = train_test_split(raw_train, test_size=0.2, random_state=1004, stratify=raw_train['label'])\n",
    "new_train.to_csv('../dataset/train/new_train.csv', index=False)\n",
    "new_dev.to_csv('../dataset/train/new_dev.csv', index=False)"
   ]
  },
  {
   "cell_type": "markdown",
   "id": "7d522f73-8e34-4703-8ad5-b28db2aa295e",
   "metadata": {
    "tags": []
   },
   "source": [
    "# 4. 엔티티 단어 갯수, 단어별 빈도수"
   ]
  },
  {
   "cell_type": "code",
   "execution_count": 77,
   "id": "a33b7652-d00f-43f2-9d38-5fdffb5dff10",
   "metadata": {},
   "outputs": [
    {
     "name": "stdout",
     "output_type": "stream",
     "text": [
      "train's subject entity word: 12052\n",
      "train's object entity word: 10226\n",
      "test's subject entity word: 4784\n",
      "test's object entity word: 4637\n"
     ]
    }
   ],
   "source": [
    "train_sub_word = pd.Series(train['subject_entity']).value_counts()\n",
    "train_ob_word = pd.Series(train['object_entity']).value_counts()\n",
    "print(\"train's subject entity word:\", len(train_sub_word))\n",
    "print(\"train's object entity word:\", len(train_ob_word))\n",
    "test_sub_word = pd.Series(test['subject_entity']).value_counts()\n",
    "test_ob_word = pd.Series(test['object_entity']).value_counts()\n",
    "print(\"test's subject entity word:\", len(test_sub_word))\n",
    "print(\"test's object entity word:\", len(test_ob_word))"
   ]
  },
  {
   "cell_type": "code",
   "execution_count": 84,
   "id": "b4fc2c4b-6973-4a33-ab3e-acf7e1eaa793",
   "metadata": {},
   "outputs": [
    {
     "data": {
      "text/plain": [
       "(32470, 32470, 7765, 7765)"
      ]
     },
     "execution_count": 84,
     "metadata": {},
     "output_type": "execute_result"
    }
   ],
   "source": [
    "len(train['subject_entity']), len(train['object_entity']), len(test['subject_entity']), len(test['object_entity'])"
   ]
  },
  {
   "cell_type": "code",
   "execution_count": 82,
   "id": "4a9d27ae-e052-43f4-9c2c-ccf5a3805359",
   "metadata": {},
   "outputs": [
    {
     "data": {
      "text/plain": [
       "민주당       144\n",
       "화순군       107\n",
       "고흥군        99\n",
       "더불어민주당     92\n",
       "광주광역시      92\n",
       "여수시        82\n",
       "문재인        80\n",
       "목포시        80\n",
       "영암군        75\n",
       "포천시        73\n",
       "Name: subject_entity, dtype: int64"
      ]
     },
     "execution_count": 82,
     "metadata": {},
     "output_type": "execute_result"
    }
   ],
   "source": [
    "train_sub_word[:10]"
   ]
  },
  {
   "cell_type": "code",
   "execution_count": 83,
   "id": "1530bd4c-7874-43b4-8bb0-b6784f0e1f4f",
   "metadata": {},
   "outputs": [
    {
     "data": {
      "text/plain": [
       "대한민국      276\n",
       "자유한국당     268\n",
       "더불어민주당    236\n",
       "문재인       135\n",
       "UEFA      117\n",
       "캐나다       115\n",
       "스페인       113\n",
       "김대중       113\n",
       "정의당       111\n",
       "골키퍼       110\n",
       "Name: object_entity, dtype: int64"
      ]
     },
     "execution_count": 83,
     "metadata": {},
     "output_type": "execute_result"
    }
   ],
   "source": [
    "train_ob_word[:10]"
   ]
  },
  {
   "cell_type": "code",
   "execution_count": 80,
   "id": "d8d5315b-19a9-40eb-a0b1-d9b77b541856",
   "metadata": {},
   "outputs": [
    {
     "data": {
      "text/plain": [
       "정부     94\n",
       "군      76\n",
       "김      62\n",
       "시      60\n",
       "A      57\n",
       "경찰     46\n",
       "MBC    34\n",
       "이      30\n",
       "육군     27\n",
       "문재인    26\n",
       "Name: subject_entity, dtype: int64"
      ]
     },
     "execution_count": 80,
     "metadata": {},
     "output_type": "execute_result"
    }
   ],
   "source": [
    "test_sub_word[:10]"
   ]
  },
  {
   "cell_type": "code",
   "execution_count": 81,
   "id": "28dd47d8-992f-4a05-bb5b-a8c169ee600b",
   "metadata": {},
   "outputs": [
    {
     "data": {
      "text/plain": [
       "관계자      76\n",
       "미국       66\n",
       "연구원      59\n",
       "선수       55\n",
       "일본       53\n",
       "감독       50\n",
       "코로나19    45\n",
       "중국       41\n",
       "의원       39\n",
       "배우       39\n",
       "Name: object_entity, dtype: int64"
      ]
     },
     "execution_count": 81,
     "metadata": {},
     "output_type": "execute_result"
    }
   ],
   "source": [
    "test_ob_word[:10]"
   ]
  },
  {
   "cell_type": "code",
   "execution_count": null,
   "id": "5d2d7b75-9d4e-4ef2-ae12-fa5e822471f5",
   "metadata": {},
   "outputs": [],
   "source": []
  },
  {
   "cell_type": "code",
   "execution_count": null,
   "id": "cce734af-68be-4ffa-b24c-12bb1a8ccbbb",
   "metadata": {},
   "outputs": [],
   "source": []
  },
  {
   "cell_type": "code",
   "execution_count": null,
   "id": "0ebec68f-63f9-4481-8966-ce527591fe48",
   "metadata": {},
   "outputs": [],
   "source": []
  },
  {
   "cell_type": "code",
   "execution_count": null,
   "id": "d1f252dc-2c85-4d28-b559-c92adc73d680",
   "metadata": {},
   "outputs": [],
   "source": []
  },
  {
   "cell_type": "code",
   "execution_count": null,
   "id": "7e00961e-5d2d-4880-b5ce-4a0dbd03cdf6",
   "metadata": {},
   "outputs": [],
   "source": []
  }
 ],
 "metadata": {
  "kernelspec": {
   "display_name": "Python 3 (ipykernel)",
   "language": "python",
   "name": "python3"
  },
  "language_info": {
   "codemirror_mode": {
    "name": "ipython",
    "version": 3
   },
   "file_extension": ".py",
   "mimetype": "text/x-python",
   "name": "python",
   "nbconvert_exporter": "python",
   "pygments_lexer": "ipython3",
   "version": "3.8.5"
  }
 },
 "nbformat": 4,
 "nbformat_minor": 5
}
